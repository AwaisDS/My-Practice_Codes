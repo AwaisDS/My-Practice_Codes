{
 "cells": [
  {
   "cell_type": "code",
   "execution_count": 1,
   "metadata": {},
   "outputs": [],
   "source": [
    "import pandas as pd\n",
    "import numpy as np\n",
    "import seaborn as sns\n",
    "import matplotlib.pyplot as plt"
   ]
  },
  {
   "cell_type": "code",
   "execution_count": null,
   "metadata": {},
   "outputs": [],
   "source": [
    "scatter_data=sns.load_dataset('penguins')\n",
    "scatter_data.head()"
   ]
  },
  {
   "cell_type": "code",
   "execution_count": null,
   "metadata": {},
   "outputs": [],
   "source": [
    "sns.scatterplot(x='bill_length_mm', y='bill_depth_mm' , data=scatter_data)\n",
    "plt.title('Bill Length vs Bill Depth')\n",
    "plt.show()"
   ]
  },
  {
   "cell_type": "code",
   "execution_count": null,
   "metadata": {},
   "outputs": [],
   "source": [
    "sns.scatterplot(x='bill_length_mm', \n",
    "                y='bill_depth_mm' , \n",
    "                data=scatter_data ,\n",
    "                hue='sex')\n",
    "plt.title('Bill Length vs Bill Depth')\n",
    "plt.show()"
   ]
  },
  {
   "cell_type": "code",
   "execution_count": null,
   "metadata": {},
   "outputs": [],
   "source": [
    "sns.set(style='dark')\n",
    "sns.scatterplot(x='bill_length_mm', \n",
    "                y='bill_depth_mm' , \n",
    "                data=scatter_data ,\n",
    "                hue='sex',\n",
    "                style='sex')\n",
    "plt.title('Bill Length vs Bill Depth')\n",
    "plt.show()"
   ]
  },
  {
   "cell_type": "code",
   "execution_count": null,
   "metadata": {},
   "outputs": [],
   "source": [
    "sns.scatterplot(x='bill_length_mm', \n",
    "                y='bill_depth_mm' , \n",
    "                data=scatter_data ,\n",
    "                hue='sex',\n",
    "                style='sex',\n",
    "                size='sex')\n",
    "plt.title('Bill Length vs Bill Depth')\n",
    "plt.show()"
   ]
  },
  {
   "cell_type": "code",
   "execution_count": null,
   "metadata": {},
   "outputs": [],
   "source": [
    "sns.scatterplot(x='bill_length_mm', \n",
    "                y='bill_depth_mm' , \n",
    "                data=scatter_data ,\n",
    "                hue='sex',\n",
    "                style='sex',\n",
    "                size='sex',\n",
    "                sizes=[100,50])\n",
    "plt.title('Bill Length vs Bill Depth')\n",
    "plt.show()"
   ]
  },
  {
   "cell_type": "code",
   "execution_count": null,
   "metadata": {},
   "outputs": [],
   "source": [
    "sns.scatterplot(x='bill_length_mm', \n",
    "                y='bill_depth_mm' , \n",
    "                data=scatter_data ,\n",
    "                hue='sex',\n",
    "                style='sex',\n",
    "                size='sex',\n",
    "                sizes=[100,50],\n",
    "                palette='turbo')\n",
    "plt.title('Bill Length vs Bill Depth')\n",
    "plt.show()"
   ]
  },
  {
   "cell_type": "code",
   "execution_count": null,
   "metadata": {},
   "outputs": [],
   "source": [
    "m={'Male':'*' , 'Female':'o'}\n",
    "sns.scatterplot(x='bill_length_mm', \n",
    "                y='bill_depth_mm' , \n",
    "                data=scatter_data ,\n",
    "                hue='sex',\n",
    "                style='sex',\n",
    "                size='sex',\n",
    "                sizes=[100,50],\n",
    "                palette='turbo',\n",
    "                markers=m)\n",
    "plt.title('Bill Length vs Bill Depth')\n",
    "plt.show()"
   ]
  },
  {
   "cell_type": "code",
   "execution_count": null,
   "metadata": {},
   "outputs": [],
   "source": []
  }
 ],
 "metadata": {
  "kernelspec": {
   "display_name": "Python 3",
   "language": "python",
   "name": "python3"
  },
  "language_info": {
   "codemirror_mode": {
    "name": "ipython",
    "version": 3
   },
   "file_extension": ".py",
   "mimetype": "text/x-python",
   "name": "python",
   "nbconvert_exporter": "python",
   "pygments_lexer": "ipython3",
   "version": "3.12.1"
  }
 },
 "nbformat": 4,
 "nbformat_minor": 2
}
