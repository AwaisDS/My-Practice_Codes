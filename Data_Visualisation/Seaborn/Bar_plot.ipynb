{
 "cells": [
  {
   "cell_type": "code",
   "execution_count": 1,
   "metadata": {},
   "outputs": [],
   "source": [
    "import pandas as pd\n",
    "import numpy as np\n",
    "import seaborn as sns\n",
    "import matplotlib.pyplot as plt"
   ]
  },
  {
   "cell_type": "code",
   "execution_count": 2,
   "metadata": {},
   "outputs": [
    {
     "data": {
      "text/html": [
       "<div>\n",
       "<style scoped>\n",
       "    .dataframe tbody tr th:only-of-type {\n",
       "        vertical-align: middle;\n",
       "    }\n",
       "\n",
       "    .dataframe tbody tr th {\n",
       "        vertical-align: top;\n",
       "    }\n",
       "\n",
       "    .dataframe thead th {\n",
       "        text-align: right;\n",
       "    }\n",
       "</style>\n",
       "<table border=\"1\" class=\"dataframe\">\n",
       "  <thead>\n",
       "    <tr style=\"text-align: right;\">\n",
       "      <th></th>\n",
       "      <th>species</th>\n",
       "      <th>island</th>\n",
       "      <th>bill_length_mm</th>\n",
       "      <th>bill_depth_mm</th>\n",
       "      <th>flipper_length_mm</th>\n",
       "      <th>body_mass_g</th>\n",
       "      <th>sex</th>\n",
       "    </tr>\n",
       "  </thead>\n",
       "  <tbody>\n",
       "    <tr>\n",
       "      <th>0</th>\n",
       "      <td>Adelie</td>\n",
       "      <td>Torgersen</td>\n",
       "      <td>39.1</td>\n",
       "      <td>18.7</td>\n",
       "      <td>181.0</td>\n",
       "      <td>3750.0</td>\n",
       "      <td>Male</td>\n",
       "    </tr>\n",
       "    <tr>\n",
       "      <th>1</th>\n",
       "      <td>Adelie</td>\n",
       "      <td>Torgersen</td>\n",
       "      <td>39.5</td>\n",
       "      <td>17.4</td>\n",
       "      <td>186.0</td>\n",
       "      <td>3800.0</td>\n",
       "      <td>Female</td>\n",
       "    </tr>\n",
       "    <tr>\n",
       "      <th>2</th>\n",
       "      <td>Adelie</td>\n",
       "      <td>Torgersen</td>\n",
       "      <td>40.3</td>\n",
       "      <td>18.0</td>\n",
       "      <td>195.0</td>\n",
       "      <td>3250.0</td>\n",
       "      <td>Female</td>\n",
       "    </tr>\n",
       "    <tr>\n",
       "      <th>3</th>\n",
       "      <td>Adelie</td>\n",
       "      <td>Torgersen</td>\n",
       "      <td>NaN</td>\n",
       "      <td>NaN</td>\n",
       "      <td>NaN</td>\n",
       "      <td>NaN</td>\n",
       "      <td>NaN</td>\n",
       "    </tr>\n",
       "    <tr>\n",
       "      <th>4</th>\n",
       "      <td>Adelie</td>\n",
       "      <td>Torgersen</td>\n",
       "      <td>36.7</td>\n",
       "      <td>19.3</td>\n",
       "      <td>193.0</td>\n",
       "      <td>3450.0</td>\n",
       "      <td>Female</td>\n",
       "    </tr>\n",
       "  </tbody>\n",
       "</table>\n",
       "</div>"
      ],
      "text/plain": [
       "  species     island  bill_length_mm  bill_depth_mm  flipper_length_mm  \\\n",
       "0  Adelie  Torgersen            39.1           18.7              181.0   \n",
       "1  Adelie  Torgersen            39.5           17.4              186.0   \n",
       "2  Adelie  Torgersen            40.3           18.0              195.0   \n",
       "3  Adelie  Torgersen             NaN            NaN                NaN   \n",
       "4  Adelie  Torgersen            36.7           19.3              193.0   \n",
       "\n",
       "   body_mass_g     sex  \n",
       "0       3750.0    Male  \n",
       "1       3800.0  Female  \n",
       "2       3250.0  Female  \n",
       "3          NaN     NaN  \n",
       "4       3450.0  Female  "
      ]
     },
     "execution_count": 2,
     "metadata": {},
     "output_type": "execute_result"
    }
   ],
   "source": [
    "bar_data=sns.load_dataset('penguins')\n",
    "bar_data.head()"
   ]
  },
  {
   "cell_type": "code",
   "execution_count": null,
   "metadata": {},
   "outputs": [],
   "source": [
    "sns.barplot(x='island' ,\n",
    "            y='bill_length_mm' ,\n",
    "            data=bar_data ,\n",
    "            )\n",
    "plt.show()"
   ]
  },
  {
   "cell_type": "code",
   "execution_count": 7,
   "metadata": {},
   "outputs": [
    {
     "data": {
      "image/png": "[encoded data removed]",
      "text/plain": [
       "<Figure size 640x480 with 1 Axes>"
      ]
     },
     "metadata": {},
     "output_type": "display_data"
    }
   ],
   "source": [
    "sns.barplot(x='species' ,\n",
    "            y='bill_length_mm' ,\n",
    "            data=bar_data ,\n",
    "            hue='island')\n",
    "plt.show()"
   ]
  },
  {
   "cell_type": "code",
   "execution_count": null,
   "metadata": {},
   "outputs": [],
   "source": [
    "order_1=['Dream' , 'Biscoe' , 'Torgersen']\n",
    "sns.barplot(x='island' ,\n",
    "            y='bill_length_mm' ,\n",
    "            data=bar_data ,\n",
    "            hue='sex',\n",
    "            order=order_1\n",
    "            )\n",
    "plt.show()"
   ]
  },
  {
   "cell_type": "code",
   "execution_count": null,
   "metadata": {},
   "outputs": [],
   "source": [
    "sns.barplot(x='island' ,\n",
    "            y='bill_length_mm' ,\n",
    "            data=bar_data ,\n",
    "            hue='sex',\n",
    "            hue_order=['Female','Male'])\n",
    "plt.show()"
   ]
  },
  {
   "cell_type": "code",
   "execution_count": null,
   "metadata": {},
   "outputs": [],
   "source": [
    "sns.barplot(x='island' ,\n",
    "            y='bill_length_mm' ,\n",
    "            data=bar_data ,\n",
    "            hue='sex',\n",
    "            errorbar=('ci', False),\n",
    "            edgecolor='black'\n",
    "            )\n",
    "plt.show()"
   ]
  },
  {
   "cell_type": "code",
   "execution_count": null,
   "metadata": {},
   "outputs": [],
   "source": [
    "sns.barplot(x='bill_depth_mm' ,\n",
    "            y='bill_length_mm' ,\n",
    "            data=bar_data ,\n",
    "            hue='sex',\n",
    "            errorbar=('ci', False),\n",
    "            orient='h'\n",
    "            )\n",
    "plt.show()"
   ]
  },
  {
   "cell_type": "code",
   "execution_count": null,
   "metadata": {},
   "outputs": [],
   "source": [
    "sns.barplot(x='island' ,\n",
    "            y='bill_length_mm' ,\n",
    "            data=bar_data,\n",
    "            color='g')\n",
    "plt.show()"
   ]
  },
  {
   "cell_type": "code",
   "execution_count": null,
   "metadata": {},
   "outputs": [],
   "source": [
    "sns.barplot(x='island' ,\n",
    "            y='bill_length_mm' ,\n",
    "            data=bar_data ,\n",
    "            hue='sex',\n",
    "            errorbar=('ci', False),\n",
    "            edgecolor='black',\n",
    "            palette='icefire'\n",
    "            )\n",
    "plt.title('Bill length acc to Island' , fontsize=16)\n",
    "plt.show()"
   ]
  },
  {
   "cell_type": "code",
   "execution_count": null,
   "metadata": {},
   "outputs": [],
   "source": [
    "sns.barplot(x='island' ,\n",
    "            y='bill_length_mm' ,\n",
    "            data=bar_data ,\n",
    "            hue='sex',\n",
    "            errorbar=('ci', False),\n",
    "            edgecolor='black',\n",
    "            palette='icefire',\n",
    "            saturation=0.3\n",
    "            )\n",
    "plt.title('Bill length acc to Island' , fontsize=16)\n",
    "plt.show()"
   ]
  },
  {
   "cell_type": "code",
   "execution_count": null,
   "metadata": {},
   "outputs": [],
   "source": [
    "sns.barplot(x='island' ,\n",
    "            y='bill_length_mm' ,\n",
    "            data=bar_data ,\n",
    "            hue='sex',\n",
    "            errorbar=('ci', 65),\n",
    "            edgecolor='black',\n",
    "            palette='icefire',\n",
    "            errcolor='y'            )\n",
    "plt.title('Bill length acc to Island' , fontsize=16)\n",
    "plt.show()"
   ]
  },
  {
   "cell_type": "code",
   "execution_count": null,
   "metadata": {},
   "outputs": [],
   "source": [
    "sns.barplot(x='island' ,\n",
    "            y='bill_length_mm' ,\n",
    "            data=bar_data ,\n",
    "            hue='sex',\n",
    "            errorbar=('ci', 65),\n",
    "            edgecolor='black',\n",
    "            palette='icefire',\n",
    "            errcolor='y',\n",
    "            capsize=0.3            )\n",
    "plt.title('Bill length acc to Island' , fontsize=16)\n",
    "plt.show()"
   ]
  },
  {
   "cell_type": "code",
   "execution_count": null,
   "metadata": {},
   "outputs": [],
   "source": [
    "sns.barplot(x='island' ,\n",
    "            y='bill_length_mm' ,\n",
    "            data=bar_data ,\n",
    "            hue='sex',\n",
    "            errorbar=('ci', 65),\n",
    "            edgecolor='black',\n",
    "            palette='icefire',\n",
    "            errcolor='y',\n",
    "            dodge=False)\n",
    "plt.title('Bill length acc to Island' , fontsize=16)\n",
    "plt.show()"
   ]
  },
  {
   "cell_type": "code",
   "execution_count": null,
   "metadata": {},
   "outputs": [],
   "source": [
    "sns.barplot(x='island' ,\n",
    "            y='bill_length_mm' ,\n",
    "            data=bar_data ,\n",
    "            hue='sex',\n",
    "            errorbar=('ci', 65),\n",
    "            edgecolor='black',\n",
    "            palette='icefire',\n",
    "            errcolor='y',\n",
    "            alpha=0.3)\n",
    "plt.title('Bill length acc to Island' , fontsize=16)\n",
    "plt.show()"
   ]
  },
  {
   "cell_type": "code",
   "execution_count": null,
   "metadata": {},
   "outputs": [],
   "source": [
    "sns.set(style='dark')\n",
    "sns.barplot(x='island' ,\n",
    "            y='bill_length_mm' ,\n",
    "            data=bar_data ,\n",
    "            hue='sex',\n",
    "            errorbar=('ci', 65),\n",
    "            edgecolor='black',\n",
    "            palette='icefire',\n",
    "            errcolor='y')\n",
    "plt.title('Bill length acc to Island' , fontsize=16)\n",
    "plt.show()"
   ]
  }
 ],
 "metadata": {
  "kernelspec": {
   "display_name": "Python 3",
   "language": "python",
   "name": "python3"
  },
  "language_info": {
   "codemirror_mode": {
    "name": "ipython",
    "version": 3
   },
   "file_extension": ".py",
   "mimetype": "text/x-python",
   "name": "python",
   "nbconvert_exporter": "python",
   "pygments_lexer": "ipython3",
   "version": "undefined.undefined.undefined"
  }
 },
 "nbformat": 4,
 "nbformat_minor": 2
}
