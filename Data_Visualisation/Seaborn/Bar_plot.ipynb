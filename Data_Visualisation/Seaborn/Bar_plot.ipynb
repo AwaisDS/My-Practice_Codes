{
 "cells": [
  {
   "cell_type": "code",
   "execution_count": 1,
   "metadata": {},
   "outputs": [],
   "source": [
    "import pandas as pd\n",
    "import numpy as np\n",
    "import seaborn as sns\n",
    "import matplotlib.pyplot as plt"
   ]
  },
  {
   "cell_type": "code",
   "execution_count": null,
   "metadata": {},
   "outputs": [],
   "source": [
    "bar_data=sns.load_dataset('penguins')\n",
    "bar_data.head()"
   ]
  },
  {
   "cell_type": "code",
   "execution_count": null,
   "metadata": {},
   "outputs": [],
   "source": [
    "sns.barplot(x='island' ,\n",
    "            y='bill_length_mm' ,\n",
    "            data=bar_data ,\n",
    "            )\n",
    "plt.show()"
   ]
  },
  {
   "cell_type": "code",
   "execution_count": null,
   "metadata": {},
   "outputs": [],
   "source": [
    "sns.barplot(x='island' ,\n",
    "            y='bill_length_mm' ,\n",
    "            data=bar_data ,\n",
    "            hue='sex')\n",
    "plt.show()"
   ]
  },
  {
   "cell_type": "code",
   "execution_count": null,
   "metadata": {},
   "outputs": [],
   "source": [
    "order_1=['Dream' , 'Biscoe' , 'Torgersen']\n",
    "sns.barplot(x='island' ,\n",
    "            y='bill_length_mm' ,\n",
    "            data=bar_data ,\n",
    "            hue='sex',\n",
    "            order=order_1\n",
    "            )\n",
    "plt.show()"
   ]
  },
  {
   "cell_type": "code",
   "execution_count": null,
   "metadata": {},
   "outputs": [],
   "source": [
    "sns.barplot(x='island' ,\n",
    "            y='bill_length_mm' ,\n",
    "            data=bar_data ,\n",
    "            hue='sex',\n",
    "            hue_order=['Female','Male'])\n",
    "plt.show()"
   ]
  },
  {
   "cell_type": "code",
   "execution_count": null,
   "metadata": {},
   "outputs": [],
   "source": [
    "sns.barplot(x='island' ,\n",
    "            y='bill_length_mm' ,\n",
    "            data=bar_data ,\n",
    "            hue='sex',\n",
    "            errorbar=('ci', False),\n",
    "            edgecolor='black'\n",
    "            )\n",
    "plt.show()"
   ]
  },
  {
   "cell_type": "code",
   "execution_count": null,
   "metadata": {},
   "outputs": [],
   "source": [
    "sns.barplot(x='bill_depth_mm' ,\n",
    "            y='bill_length_mm' ,\n",
    "            data=bar_data ,\n",
    "            hue='sex',\n",
    "            errorbar=('ci', False),\n",
    "            orient='h'\n",
    "            )\n",
    "plt.show()"
   ]
  },
  {
   "cell_type": "code",
   "execution_count": null,
   "metadata": {},
   "outputs": [],
   "source": [
    "sns.barplot(x='island' ,\n",
    "            y='bill_length_mm' ,\n",
    "            data=bar_data,\n",
    "            color='g')\n",
    "plt.show()"
   ]
  },
  {
   "cell_type": "code",
   "execution_count": null,
   "metadata": {},
   "outputs": [],
   "source": [
    "sns.barplot(x='island' ,\n",
    "            y='bill_length_mm' ,\n",
    "            data=bar_data ,\n",
    "            hue='sex',\n",
    "            errorbar=('ci', False),\n",
    "            edgecolor='black',\n",
    "            palette='icefire'\n",
    "            )\n",
    "plt.title('Bill length acc to Island' , fontsize=16)\n",
    "plt.show()"
   ]
  },
  {
   "cell_type": "code",
   "execution_count": null,
   "metadata": {},
   "outputs": [],
   "source": [
    "sns.barplot(x='island' ,\n",
    "            y='bill_length_mm' ,\n",
    "            data=bar_data ,\n",
    "            hue='sex',\n",
    "            errorbar=('ci', False),\n",
    "            edgecolor='black',\n",
    "            palette='icefire',\n",
    "            saturation=0.3\n",
    "            )\n",
    "plt.title('Bill length acc to Island' , fontsize=16)\n",
    "plt.show()"
   ]
  },
  {
   "cell_type": "code",
   "execution_count": null,
   "metadata": {},
   "outputs": [],
   "source": [
    "sns.barplot(x='island' ,\n",
    "            y='bill_length_mm' ,\n",
    "            data=bar_data ,\n",
    "            hue='sex',\n",
    "            errorbar=('ci', 65),\n",
    "            edgecolor='black',\n",
    "            palette='icefire',\n",
    "            errcolor='y'            )\n",
    "plt.title('Bill length acc to Island' , fontsize=16)\n",
    "plt.show()"
   ]
  },
  {
   "cell_type": "code",
   "execution_count": null,
   "metadata": {},
   "outputs": [],
   "source": [
    "sns.barplot(x='island' ,\n",
    "            y='bill_length_mm' ,\n",
    "            data=bar_data ,\n",
    "            hue='sex',\n",
    "            errorbar=('ci', 65),\n",
    "            edgecolor='black',\n",
    "            palette='icefire',\n",
    "            errcolor='y',\n",
    "            capsize=0.3            )\n",
    "plt.title('Bill length acc to Island' , fontsize=16)\n",
    "plt.show()"
   ]
  },
  {
   "cell_type": "code",
   "execution_count": null,
   "metadata": {},
   "outputs": [],
   "source": [
    "sns.barplot(x='island' ,\n",
    "            y='bill_length_mm' ,\n",
    "            data=bar_data ,\n",
    "            hue='sex',\n",
    "            errorbar=('ci', 65),\n",
    "            edgecolor='black',\n",
    "            palette='icefire',\n",
    "            errcolor='y',\n",
    "            dodge=False)\n",
    "plt.title('Bill length acc to Island' , fontsize=16)\n",
    "plt.show()"
   ]
  },
  {
   "cell_type": "code",
   "execution_count": null,
   "metadata": {},
   "outputs": [],
   "source": [
    "sns.barplot(x='island' ,\n",
    "            y='bill_length_mm' ,\n",
    "            data=bar_data ,\n",
    "            hue='sex',\n",
    "            errorbar=('ci', 65),\n",
    "            edgecolor='black',\n",
    "            palette='icefire',\n",
    "            errcolor='y',\n",
    "            alpha=0.3)\n",
    "plt.title('Bill length acc to Island' , fontsize=16)\n",
    "plt.show()"
   ]
  },
  {
   "cell_type": "code",
   "execution_count": null,
   "metadata": {},
   "outputs": [],
   "source": [
    "sns.set(style='dark')\n",
    "sns.barplot(x='island' ,\n",
    "            y='bill_length_mm' ,\n",
    "            data=bar_data ,\n",
    "            hue='sex',\n",
    "            errorbar=('ci', 65),\n",
    "            edgecolor='black',\n",
    "            palette='icefire',\n",
    "            errcolor='y')\n",
    "plt.title('Bill length acc to Island' , fontsize=16)\n",
    "plt.show()"
   ]
  }
 ],
 "metadata": {
  "kernelspec": {
   "display_name": "Python 3",
   "language": "python",
   "name": "python3"
  },
  "language_info": {
   "codemirror_mode": {
    "name": "ipython",
    "version": 3
   },
   "file_extension": ".py",
   "mimetype": "text/x-python",
   "name": "python",
   "nbconvert_exporter": "python",
   "pygments_lexer": "ipython3",
   "version": "3.12.1"
  }
 },
 "nbformat": 4,
 "nbformat_minor": 2
}
